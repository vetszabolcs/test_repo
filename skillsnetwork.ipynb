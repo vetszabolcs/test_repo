{
 "cells": [
  {
   "cell_type": "markdown",
   "id": "1abee721",
   "metadata": {},
   "source": [
    "# My Jupyter Notebook on IBM Watson Studio"
   ]
  },
  {
   "cell_type": "markdown",
   "id": "ad188bff",
   "metadata": {},
   "source": [
    "**Szabolcs Vetési**\n",
    "<br>\n",
    "Machine learning engineer trainee"
   ]
  },
  {
   "cell_type": "markdown",
   "id": "3e7f893e",
   "metadata": {},
   "source": [
    "*I believe that enormous infromation can be gathered from data analysis which can be used to make a better place to live in :) Also working with data is quite exciting and may give you the state of flow.*"
   ]
  },
  {
   "cell_type": "markdown",
   "id": "2bb2b6f4",
   "metadata": {},
   "source": [
    "### The code below prints each character of the 'text' variable 10 times while separating different characters into new lines."
   ]
  },
  {
   "cell_type": "code",
   "execution_count": 12,
   "id": "5d4fb33d",
   "metadata": {},
   "outputs": [
    {
     "name": "stdout",
     "output_type": "stream",
     "text": [
      "MMMMMMMMMM\n",
      "eeeeeeeeee\n",
      "rrrrrrrrrr\n",
      "rrrrrrrrrr\n",
      "yyyyyyyyyy\n",
      "          \n",
      "CCCCCCCCCC\n",
      "hhhhhhhhhh\n",
      "rrrrrrrrrr\n",
      "iiiiiiiiii\n",
      "ssssssssss\n",
      "tttttttttt\n",
      "mmmmmmmmmm\n",
      "aaaaaaaaaa\n",
      "ssssssssss\n",
      "          \n",
      "aaaaaaaaaa\n",
      "nnnnnnnnnn\n",
      "dddddddddd\n",
      "          \n",
      "HHHHHHHHHH\n",
      "aaaaaaaaaa\n",
      "pppppppppp\n",
      "pppppppppp\n",
      "yyyyyyyyyy\n",
      "          \n",
      "NNNNNNNNNN\n",
      "eeeeeeeeee\n",
      "wwwwwwwwww\n",
      "          \n",
      "YYYYYYYYYY\n",
      "eeeeeeeeee\n",
      "aaaaaaaaaa\n",
      "rrrrrrrrrr\n",
      "!!!!!!!!!!\n"
     ]
    }
   ],
   "source": [
    "text = \"Merry Christmas and Happy New Year!\"\n",
    "for t in text:\n",
    "    print(t*10)"
   ]
  },
  {
   "cell_type": "markdown",
   "id": "06b257e3",
   "metadata": {},
   "source": [
    "***\n",
    "For some reason IBM does not recognise our debit cards (I tried 4 peoples card) so I can not validate my identity. That's why this notebook is on github instead of Watson Studio.\n",
    "***\n",
    "\n",
    "Important things about Christmas\n",
    "1. Christ himself\n",
    "2. Your family and friends\n",
    "\n",
    "\n",
    "Read some surf forecast <a href=\"https://magicseaweed.com/\">here</a>"
   ]
  }
 ],
 "metadata": {
  "kernelspec": {
   "display_name": "Python 3",
   "language": "python",
   "name": "python3"
  },
  "language_info": {
   "codemirror_mode": {
    "name": "ipython",
    "version": 3
   },
   "file_extension": ".py",
   "mimetype": "text/x-python",
   "name": "python",
   "nbconvert_exporter": "python",
   "pygments_lexer": "ipython3",
   "version": "3.8.8"
  }
 },
 "nbformat": 4,
 "nbformat_minor": 5
}
